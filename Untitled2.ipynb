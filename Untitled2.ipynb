{
  "nbformat": 4,
  "nbformat_minor": 0,
  "metadata": {
    "colab": {
      "provenance": [],
      "collapsed_sections": [],
      "authorship_tag": "ABX9TyMxEwTgEs1CpGldrJZhdInf",
      "include_colab_link": true
    },
    "kernelspec": {
      "name": "python3",
      "display_name": "Python 3"
    },
    "language_info": {
      "name": "python"
    }
  },
  "cells": [
    {
      "cell_type": "markdown",
      "metadata": {
        "id": "view-in-github",
        "colab_type": "text"
      },
      "source": [
        "<a href=\"https://colab.research.google.com/github/ruthika5462/DSA-crackpoint.../blob/main/Untitled2.ipynb\" target=\"_parent\"><img src=\"https://colab.research.google.com/assets/colab-badge.svg\" alt=\"Open In Colab\"/></a>"
      ]
    },
    {
      "cell_type": "markdown",
      "source": [
        "**Tree**\n",
        "a node can have maximum two child\n",
        "root node left size value shold always be less than root node\n",
        "right side should be greater than the root node\n",
        "node will contain three parts\n",
        "left\n",
        "data\n",
        "right\n",
        "it is a non linear structure\n",
        "if the node doesnt contain child is a lead\n",
        "internal node\n",
        "path node like a->b->c->d like 3 edges and 4 nodes"
      ],
      "metadata": {
        "id": "H5Yk0t5G4KOJ"
      }
    },
    {
      "cell_type": "code",
      "source": [
        "\n",
        "\n",
        "\n",
        "\n",
        "class node:\n",
        "  def __init__(self,value):\n",
        "    self.left=None\n",
        "    self.data=Value\n",
        "    self.right=None\n",
        "class Tree:\n",
        "  def createnode(self,data):\n",
        "    return Node(data)\n",
        "  def insert(self,node,data):\n",
        "    if node is None:\n",
        "       self.createnode(data)\n",
        "    if data < node.data:\n",
        "       node.left=self.insert(node.left,data)\n",
        "    else:\n",
        "     node.right= self.insert(node.right,data)\n",
        "    return node\n"
      ],
      "metadata": {
        "id": "wRt6wa2v4Man"
      },
      "execution_count": null,
      "outputs": []
    },
    {
      "cell_type": "markdown",
      "source": [
        "depth of root node is always zero \n",
        "depth of leaf node is always zero\n",
        "\n",
        "1.   to find a depth of tree need to take a longest path of the tree\n",
        "2.   \n",
        "\n"
      ],
      "metadata": {
        "id": "_SoKEzY2MTEy"
      }
    },
    {
      "cell_type": "code",
      "source": [
        "class BST:\n",
        "  def _init_(self, key):\n",
        "   self.key=key\n",
        "   self.lchild=None\n",
        "   self.rchild=None\n",
        "root = BST(10)\n",
        "print(root.key)\n",
        "print(root.lchild)\n",
        "print(root.rchild)\n",
        "root.lchild = BST(5)\n",
        "print(root.lchild.key)\n",
        "print(root.rchild.lchild)\n",
        "print(root.lchild.rchild)"
      ],
      "metadata": {
        "id": "aCALCQVEnGJW",
        "colab": {
          "base_uri": "https://localhost:8080/",
          "height": 235
        },
        "outputId": "670c96de-2b1f-43ab-98e6-b570e9eff3ce"
      },
      "execution_count": null,
      "outputs": [
        {
          "output_type": "error",
          "ename": "TypeError",
          "evalue": "ignored",
          "traceback": [
            "\u001b[0;31m---------------------------------------------------------------------------\u001b[0m",
            "\u001b[0;31mTypeError\u001b[0m                                 Traceback (most recent call last)",
            "\u001b[0;32m<ipython-input-8-3c7465bae98c>\u001b[0m in \u001b[0;36m<module>\u001b[0;34m\u001b[0m\n\u001b[1;32m      4\u001b[0m    \u001b[0mself\u001b[0m\u001b[0;34m.\u001b[0m\u001b[0mlchild\u001b[0m\u001b[0;34m=\u001b[0m\u001b[0;32mNone\u001b[0m\u001b[0;34m\u001b[0m\u001b[0;34m\u001b[0m\u001b[0m\n\u001b[1;32m      5\u001b[0m    \u001b[0mself\u001b[0m\u001b[0;34m.\u001b[0m\u001b[0mrchild\u001b[0m\u001b[0;34m=\u001b[0m\u001b[0;32mNone\u001b[0m\u001b[0;34m\u001b[0m\u001b[0;34m\u001b[0m\u001b[0m\n\u001b[0;32m----> 6\u001b[0;31m \u001b[0mroot\u001b[0m \u001b[0;34m=\u001b[0m \u001b[0mBST\u001b[0m\u001b[0;34m(\u001b[0m\u001b[0;36m10\u001b[0m\u001b[0;34m)\u001b[0m\u001b[0;34m\u001b[0m\u001b[0;34m\u001b[0m\u001b[0m\n\u001b[0m\u001b[1;32m      7\u001b[0m \u001b[0mprint\u001b[0m\u001b[0;34m(\u001b[0m\u001b[0mroot\u001b[0m\u001b[0;34m.\u001b[0m\u001b[0mkey\u001b[0m\u001b[0;34m)\u001b[0m\u001b[0;34m\u001b[0m\u001b[0;34m\u001b[0m\u001b[0m\n\u001b[1;32m      8\u001b[0m \u001b[0mprint\u001b[0m\u001b[0;34m(\u001b[0m\u001b[0mroot\u001b[0m\u001b[0;34m.\u001b[0m\u001b[0mlchild\u001b[0m\u001b[0;34m)\u001b[0m\u001b[0;34m\u001b[0m\u001b[0;34m\u001b[0m\u001b[0m\n",
            "\u001b[0;31mTypeError\u001b[0m: BST() takes no arguments"
          ]
        }
      ]
    },
    {
      "cell_type": "code",
      "source": [
        "class bst:\n",
        "  def __init__(self,key):\n",
        "    self.key=key\n",
        "    self.lchild=None\n",
        "    self.rchild=None\n",
        "\n",
        "  def insert(self,data):           \n",
        "    if self.key is None:\n",
        "      self.key = data\n",
        "      return\n",
        "    if self.key ==data:\n",
        "      return\n",
        "    if self.key > data:\n",
        "       if self.lchild:\n",
        "         self.lchild.insert(data) ##recursive\n",
        "       else:\n",
        "         self.lchild = bst(data)\n",
        "    else:\n",
        "      if self.rchild:\n",
        "        self.rchild.insert(data)\n",
        "      else:\n",
        "        self.rchild= bst(data)\n",
        "        \n",
        "\n",
        "root=bst(None)  \n",
        "list1 = [20,4,6,30,1,4,5,6]\n",
        "for i in list1:\n",
        "  root.insert(i)\n"
      ],
      "metadata": {
        "id": "wG1IRxk9uEbP"
      },
      "execution_count": null,
      "outputs": []
    },
    {
      "cell_type": "code",
      "source": [
        "def search(self,data):\n",
        "  if self.key==data:             #rootkey=10;data=6\n",
        "    print(\"Node is found!\")\n",
        "    return\n",
        "  if data <self.key:\n",
        "     if self.lchild:  ##true when left subtree is present.\n",
        "       self.lchild.search(data)  ##recursive\n",
        "     else:\n",
        "       print(\"node is not present in the tree\")\n",
        "     else:\n",
        "           if self.rchild:\n",
        "              self.rchild.search(data)\n",
        "           else:\n",
        "              print(\"node is not present in the tree\") \n",
        "root=bst(10)\n",
        "list1=[10,20,5,6,7,3]\n",
        "for i in list1:\n",
        "  root.insert(i)\n",
        "root.search(6)\n",
        "\n",
        "       "
      ],
      "metadata": {
        "id": "WcP7MhdBfMrI"
      },
      "execution_count": null,
      "outputs": []
    },
    {
      "cell_type": "markdown",
      "source": [
        "Traversal method\n",
        "\n",
        "\n",
        "1. preorder\n",
        "2. postorder\n",
        "3. inorder\n"
      ],
      "metadata": {
        "id": "oF2h-e5VlKbY"
      }
    },
    {
      "cell_type": "code",
      "source": [
        "def preorder(self):\n",
        "  print(self.key ,end = \" \")  ##self->root->node\n",
        "  if self.lchild:\n",
        "    self.lchild.preorder()\n",
        "  if self.rchild:\n",
        "    self.rchild.preorder()\n",
        "root=BST(10)\n",
        "list1=[6,7,3,4,5,89,9]\n",
        "for i in list1:\n",
        "    root.insert(i)\n",
        "root.preorder ()\n",
        "\n"
      ],
      "metadata": {
        "colab": {
          "base_uri": "https://localhost:8080/",
          "height": 235
        },
        "id": "GjDIh_0Cladz",
        "outputId": "877028ee-951d-46eb-802b-4cc0d328498d"
      },
      "execution_count": null,
      "outputs": [
        {
          "output_type": "error",
          "ename": "NameError",
          "evalue": "ignored",
          "traceback": [
            "\u001b[0;31m---------------------------------------------------------------------------\u001b[0m",
            "\u001b[0;31mNameError\u001b[0m                                 Traceback (most recent call last)",
            "\u001b[0;32m<ipython-input-8-2b3f5f01e35a>\u001b[0m in \u001b[0;36m<module>\u001b[0;34m\u001b[0m\n\u001b[1;32m      5\u001b[0m   \u001b[0;32mif\u001b[0m \u001b[0mself\u001b[0m\u001b[0;34m.\u001b[0m\u001b[0mrchild\u001b[0m\u001b[0;34m:\u001b[0m\u001b[0;34m\u001b[0m\u001b[0;34m\u001b[0m\u001b[0m\n\u001b[1;32m      6\u001b[0m     \u001b[0mself\u001b[0m\u001b[0;34m.\u001b[0m\u001b[0mrchild\u001b[0m\u001b[0;34m.\u001b[0m\u001b[0mpreorder\u001b[0m\u001b[0;34m(\u001b[0m\u001b[0;34m)\u001b[0m\u001b[0;34m\u001b[0m\u001b[0;34m\u001b[0m\u001b[0m\n\u001b[0;32m----> 7\u001b[0;31m \u001b[0mroot\u001b[0m\u001b[0;34m=\u001b[0m\u001b[0mBST\u001b[0m\u001b[0;34m(\u001b[0m\u001b[0;36m10\u001b[0m\u001b[0;34m)\u001b[0m\u001b[0;34m\u001b[0m\u001b[0;34m\u001b[0m\u001b[0m\n\u001b[0m\u001b[1;32m      8\u001b[0m \u001b[0mlist1\u001b[0m\u001b[0;34m=\u001b[0m\u001b[0;34m[\u001b[0m\u001b[0;36m6\u001b[0m\u001b[0;34m,\u001b[0m\u001b[0;36m7\u001b[0m\u001b[0;34m,\u001b[0m\u001b[0;36m3\u001b[0m\u001b[0;34m,\u001b[0m\u001b[0;36m4\u001b[0m\u001b[0;34m,\u001b[0m\u001b[0;36m5\u001b[0m\u001b[0;34m,\u001b[0m\u001b[0;36m89\u001b[0m\u001b[0;34m,\u001b[0m\u001b[0;36m9\u001b[0m\u001b[0;34m]\u001b[0m\u001b[0;34m\u001b[0m\u001b[0;34m\u001b[0m\u001b[0m\n\u001b[1;32m      9\u001b[0m \u001b[0;32mfor\u001b[0m \u001b[0mi\u001b[0m \u001b[0;32min\u001b[0m \u001b[0mlist1\u001b[0m\u001b[0;34m:\u001b[0m\u001b[0;34m\u001b[0m\u001b[0;34m\u001b[0m\u001b[0m\n",
            "\u001b[0;31mNameError\u001b[0m: name 'BST' is not defined"
          ]
        }
      ]
    },
    {
      "cell_type": "code",
      "source": [
        "##inorder   in the format of ascending order\n",
        "def inorder(self):\n",
        "  if self.lchild:\n",
        "    self.lchild.inorder()\n",
        "  print(self.key)\n",
        "  if self.rchild:\n",
        "    self.rchild.inorder()\n",
        "def postorder(self):\n",
        "  if self.lchild:\n",
        "    self.lchild.postorder()\n",
        "  if self.rchild:\n",
        "    self.rchild.postorder()\n",
        "  print(self.key)\n",
        "root=bst(10)\n",
        "list1=[20,5,78,8,9]\n",
        "for i in list1:\n",
        "  root.insert(i)\n",
        "print(\"inorder\")\n",
        "root.inorder()\n",
        "print()\n",
        "print(\"postorder\")\n",
        "root.postorder()\n",
        "print()\n",
        "\n",
        "\n",
        "\n"
      ],
      "metadata": {
        "id": "f3CSPy5Aq8sT"
      },
      "execution_count": null,
      "outputs": []
    },
    {
      "cell_type": "code",
      "source": [
        "##deletion\n",
        "def delete(self,data,):\n",
        "   if self.key is None: ##self represent the object \n",
        "     print(\"tree is empty!\")\n",
        "   return\n",
        "   if data < self.key:\n",
        "     if self.lchild:\n",
        "       self.lchild  = self.lchild.delete(data) ##recursive(returning the result we need to store in self.child)\n",
        "     else:\n",
        "       print(\"given node is not present in the tree\")\n",
        "   elif data>self.key:\n",
        "        if self.rchild:  ##if it is present (delete that node)\n",
        "        self.rchild=self.rchild.delete(data) ##store the return result in self.rchild\n",
        "   else:\n",
        "        print(\"given node is not present in the tree\")\n",
        "    else:\n",
        "         if self.lchild is None:\n",
        "         temp = self.rchild  ##temp = None\n",
        "         self=None\n",
        "         return temp\n",
        "        if self.rchild is None:\n",
        "          temp = self.lchild\n",
        "          self=None\n",
        "          return temp\n",
        "        node=self.rchild\n",
        "        while node.lchild:\n",
        "          node=node.lchild\n",
        "        self.key=node.key\n",
        "        self.rchild=self.rchild.delete(node)\n",
        "        return self\n",
        "\n",
        "root=bst(10)\n",
        "list1=[1,2,3,545,6, 6]"
      ],
      "metadata": {
        "id": "lAYBY45TvsZL"
      },
      "execution_count": null,
      "outputs": []
    },
    {
      "cell_type": "code",
      "source": [
        "###deletion of root node\n",
        "def count(node,curr):\n",
        "  if node is None:\n",
        "    return 0\n",
        "    return 1+count(node.lchild)+count(node.rchild)\n",
        " root=bst(10)\n",
        " list1=[2,3]\n",
        " for i in list1:\n",
        "   root.insert(i)\n",
        "if count(root)>1:\n",
        "  root.delete(10)\n",
        "else:\n",
        "  print(\"cant perrform the deletion operation\")\n",
        "print(count(root))\n"
      ],
      "metadata": {
        "id": "LBGt83QTASRO"
      },
      "execution_count": null,
      "outputs": []
    },
    {
      "cell_type": "code",
      "source": [
        "#node with min and max\n",
        "def min_node(self):  ##root.minnode\n",
        "   current=self\n",
        "   while current.lchild:\n",
        "     current=current.lchild\n",
        "   print(\"node with min key is:\",current.key)"
      ],
      "metadata": {
        "id": "9wyebY-Kofd7"
      },
      "execution_count": null,
      "outputs": []
    },
    {
      "cell_type": "code",
      "source": [
        "##node with max\n",
        "def max_node(self)\n",
        "  current=self\n",
        "  while current.rchild:   ##to execute again and again 4th line to get  max node\n",
        "    current=current.rchild\n",
        "  print(\"node with max key is:\",current.key)\n",
        "  root.min_node()\n",
        "  root.max_node()\n"
      ],
      "metadata": {
        "id": "902vPrV0qjgG"
      },
      "execution_count": null,
      "outputs": []
    }
  ]
}