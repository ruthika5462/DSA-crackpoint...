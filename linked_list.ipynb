{
  "nbformat": 4,
  "nbformat_minor": 0,
  "metadata": {
    "colab": {
      "provenance": [],
      "collapsed_sections": [],
      "authorship_tag": "ABX9TyN29B/Ss9LQPqFKi6EQtFyi",
      "include_colab_link": true
    },
    "kernelspec": {
      "name": "python3",
      "display_name": "Python 3"
    },
    "language_info": {
      "name": "python"
    }
  },
  "cells": [
    {
      "cell_type": "markdown",
      "metadata": {
        "id": "view-in-github",
        "colab_type": "text"
      },
      "source": [
        "<a href=\"https://colab.research.google.com/github/ruthika5462/DSA-crackpoint.../blob/main/linked_list.ipynb\" target=\"_parent\"><img src=\"https://colab.research.google.com/assets/colab-badge.svg\" alt=\"Open In Colab\"/></a>"
      ]
    },
    {
      "cell_type": "markdown",
      "source": [
        "graph\n",
        "\n",
        "\n",
        "1.   used in google maps and gps\n",
        "2.   to find the shotest path\n",
        "\n",
        "\n",
        "*   used in facebook in linkedin\n",
        "*   e-commerce website\n",
        "\n",
        "\n",
        "\n",
        "\n"
      ],
      "metadata": {
        "id": "PRHWJmD0lydt"
      }
    },
    {
      "cell_type": "code",
      "source": [
        "##undirected graph and unweighted graph adding node in adjacency matrix\n",
        "def add_node(v):\n",
        "  global node_count\n",
        "  if v in nodes:\n",
        "    print(v,\"is already present in the graph \")\n",
        "  else:\n",
        "    node_count=node_count+1   ##adding the node in graph\n",
        "    nodes.append(v)           ##nodes list\n",
        "    for n in graph:           ##initially column\n",
        "      n.append(0)\n",
        "    temp=[]                   ## new row considered as list\n",
        "    for i in range(node_count):\n",
        "      temp.append(0)          ##append 6 times represent nodes\n",
        "    graph.append(temp)        ##new row to the graph\n",
        "def print_graph():\n",
        "  for i in range(node_count):     #row\n",
        "    for j in range(node_count):   #column\n",
        "      print(graph[i] [j],end=\" \")\n",
        "    print()                        ##for newline\n",
        "nodes=[]\n",
        "graph=[]\n",
        "node_count=0                       ##for representing how many nodes ##global variable\n",
        "print(\"before adding nodes\")\n",
        "print(nodes)\n",
        "print(graph)\n",
        "add_node(\"A\")\n",
        "add_node(\"B\")\n",
        "add_node(\"c\")\n",
        "print(\"after adding nodes\")\n",
        "print(\"nodes:\",nodes)\n",
        "print(graph)\n",
        "print_graph()"
      ],
      "metadata": {
        "colab": {
          "base_uri": "https://localhost:8080/"
        },
        "id": "34i_Jz-r9LkE",
        "outputId": "668a7508-eeed-4a3f-bff9-a538ea81f9eb"
      },
      "execution_count": null,
      "outputs": [
        {
          "output_type": "stream",
          "name": "stdout",
          "text": [
            "before adding nodes\n",
            "[]\n",
            "[]\n",
            "after adding nodes\n",
            "nodes: ['A', 'B', 'c']\n",
            "[[0, 0, 0], [0, 0, 0], [0, 0, 0]]\n",
            "0 0 0 \n",
            "0 0 0 \n",
            "0 0 0 \n"
          ]
        }
      ]
    },
    {
      "cell_type": "markdown",
      "source": [
        "**add egde in adjacency matrix representation**\n",
        "\n",
        "\n",
        "1.   add edge look for undirected and un weighted graph\n",
        "2.   ex:like adding an edge between e and f\n",
        "3.matrix is anested list\n",
        "4.all the vertices of graph are stored in node list\n",
        "\n"
      ],
      "metadata": {
        "id": "oDQjieV2TBAp"
      }
    },
    {
      "cell_type": "code",
      "source": [
        " def add_edge(v1,v2,cost):\n",
        "  if v1 not in nodes :   ##true\n",
        "    print(v1,\"is not present in the graph\")\n",
        "  elif v2 not in nodes:   ##true\n",
        "    print(v2,\"is not present in the graph\")\n",
        "  else:\n",
        "     index1 = nodes.index(v1)\n",
        "     index2=nodes.index(v2)\n",
        "     graph[index1][index2]=cost\n",
        "     graph[index2][index1]=cost\n",
        "def  print_graph():\n",
        "      for i in range(node_count):\n",
        "        for j in range(node_count):\n",
        "          print(format (graph[i] [j],\"<3\"),end=\" \")\n",
        "        print()\n",
        "nodes = []\n",
        "graph= []\n",
        "node_count= 0\n",
        "add_node=(\"A\")\n",
        "add_node=(\"B\")\n",
        "add_node=(\"D\")\n",
        "add_edge(\"A\",\"B\",10)\n",
        "add_edge(\"A\",\"D\",5)\n",
        "print(graph)\n",
        "print_graph()"
      ],
      "metadata": {
        "id": "b0gzeTUeTNQP",
        "colab": {
          "base_uri": "https://localhost:8080/"
        },
        "outputId": "f258b6b8-0929-4d53-e99d-0595de6bfa8a"
      },
      "execution_count": null,
      "outputs": [
        {
          "output_type": "stream",
          "name": "stdout",
          "text": [
            "A is not present in the graph\n",
            "A is not present in the graph\n",
            "[]\n"
          ]
        }
      ]
    },
    {
      "cell_type": "code",
      "source": [
        " def add_edge(v1,v2):\n",
        "  if v1 not in nodes :   ##true\n",
        "    print(v1,\"is not present in the graph\")\n",
        "  elif v2 not in nodes:   ##true\n",
        "    print(v2,\"is not present in the graph\")\n",
        "  else:\n",
        "     index1 = nodes.index(v1)\n",
        "     index2=nodes.index(v2)\n",
        "     graph[index1][index2]=1\n",
        "     graph[index2][index1]=1\n",
        "def print_graph():\n",
        "      for i in range(node_count):\n",
        "        for j in range(node_count):\n",
        "          print(graph[i] [j],end=\" \")\n",
        "        print()\n",
        "nodes = []\n",
        "graph= []\n",
        "node_count= 0\n",
        "add_node=(\"A\")\n",
        "add_node=(\"B\")\n",
        "add_node=(\"d\")\n",
        "add_edge(\"A\",\"B\")\n",
        "add_edge(\"A\",\"D\")\n",
        "print(graph)\n",
        "print_graph()"
      ],
      "metadata": {
        "colab": {
          "base_uri": "https://localhost:8080/"
        },
        "id": "AO-6WldKaOTV",
        "outputId": "c212ca16-5695-48b5-d080-5e03e4ff8f48"
      },
      "execution_count": null,
      "outputs": [
        {
          "output_type": "stream",
          "name": "stdout",
          "text": [
            "A is not present in the graph\n",
            "A is not present in the graph\n",
            "[]\n"
          ]
        }
      ]
    },
    {
      "cell_type": "markdown",
      "source": [],
      "metadata": {
        "id": "zXHHFWokft6n"
      }
    },
    {
      "cell_type": "markdown",
      "source": [
        "Key represent the nodes of the graph\n",
        "value represent list of its adjacent node\n"
      ],
      "metadata": {
        "id": "GkJyfPRJft9-"
      }
    },
    {
      "cell_type": "code",
      "source": [
        "##add an enode using adjacency list representation\n",
        "def add_node(V):\n",
        "  if V in graph:\n",
        "    print(V,\"is already present in the graph\")\n",
        "  else:\n",
        "    graph[V] = []  ##v is a key  list is empty\n",
        "  \n",
        "graph={}\n",
        "add_node(\"A\")\n",
        "add_node(\"B\")\n",
        "print(graph)\n",
        "\n"
      ],
      "metadata": {
        "colab": {
          "base_uri": "https://localhost:8080/"
        },
        "id": "TSlKwX13d7JJ",
        "outputId": "b0fde63c-7dd1-4602-b980-6b152fa206b8"
      },
      "execution_count": null,
      "outputs": [
        {
          "output_type": "stream",
          "name": "stdout",
          "text": [
            "{'A': [], 'B': []}\n"
          ]
        }
      ]
    },
    {
      "cell_type": "code",
      "source": [],
      "metadata": {
        "id": "ce1z-PFtg9e6"
      },
      "execution_count": null,
      "outputs": []
    }
  ]
}