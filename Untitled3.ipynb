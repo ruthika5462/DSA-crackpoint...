{
  "nbformat": 4,
  "nbformat_minor": 0,
  "metadata": {
    "colab": {
      "provenance": [],
      "collapsed_sections": [],
      "authorship_tag": "ABX9TyPfDD739tcpxR5SGG2apayn",
      "include_colab_link": true
    },
    "kernelspec": {
      "name": "python3",
      "display_name": "Python 3"
    },
    "language_info": {
      "name": "python"
    }
  },
  "cells": [
    {
      "cell_type": "markdown",
      "metadata": {
        "id": "view-in-github",
        "colab_type": "text"
      },
      "source": [
        "<a href=\"https://colab.research.google.com/github/ruthika5462/DSA-crackpoint.../blob/main/Untitled3.ipynb\" target=\"_parent\"><img src=\"https://colab.research.google.com/assets/colab-badge.svg\" alt=\"Open In Colab\"/></a>"
      ]
    },
    {
      "cell_type": "markdown",
      "source": [
        "haep operations\n",
        "\n",
        "\n",
        "> heapify_up\n",
        "\n",
        "\n",
        "> bubble _up\n",
        "\n",
        "> percolate_up\n",
        "\n",
        "> sift_up\n",
        "\n",
        "> trickle_up\n",
        "\n",
        "> swim_up\n",
        "\n",
        "> cascade_up\n",
        "\n",
        "\n",
        "*   it is a bottom-up approach\n",
        "Heapify down\n",
        "\n",
        "\n",
        "> top  down approach\n",
        "rearrrange based on the heap\n",
        "delete the root node in binary tree \n",
        "heapify_down other names:\n",
        "\n",
        "\n",
        "1. down_heap  \n",
        "2. bubble_down\n",
        "\n",
        "\n",
        "> percolate_down\n",
        "\n",
        "\n",
        "> sift_down\n",
        "\n",
        "\n",
        "> extract_min/extract_max\n",
        "sink_down\n",
        "\n",
        "\n",
        "\n",
        "\n",
        "\n",
        "\n",
        "\n",
        "\n",
        "\n",
        "\n",
        "\n",
        "\n",
        "\n",
        "\n",
        "\n",
        "\n",
        "\n",
        "\n",
        "\n",
        "\n",
        "\n",
        "\n",
        "\n",
        "\n",
        "\n",
        "\n",
        "\n",
        "\n",
        "\n",
        "\n"
      ],
      "metadata": {
        "id": "7dSc_Q1hYIs8"
      }
    },
    {
      "cell_type": "code",
      "source": [
        "import heapq   ##heapq is a module\n",
        "heap=[]\n",
        "heapq.heappush(heap,2)\n",
        "heapq.heappush(heap,4)\n",
        "(heap)\n",
        "heapq.heappop(heap)\n",
        "heapq.heappop(heap)\n"
      ],
      "metadata": {
        "colab": {
          "base_uri": "https://localhost:8080/"
        },
        "id": "SYyIExzymqDk",
        "outputId": "5fe3125d-6019-49b2-e13f-18ee4c95318c"
      },
      "execution_count": 7,
      "outputs": [
        {
          "output_type": "execute_result",
          "data": {
            "text/plain": [
              "4"
            ]
          },
          "metadata": {},
          "execution_count": 7
        }
      ]
    },
    {
      "cell_type": "code",
      "source": [
        "import heapq\n",
        "list1=[1,2,7,3,8,5]\n",
        "heapq.heapify(list1)\n",
        "list1\n"
      ],
      "metadata": {
        "colab": {
          "base_uri": "https://localhost:8080/"
        },
        "id": "0ViLDg_wsthj",
        "outputId": "db0d0eb7-0c43-43ce-8ba2-ef5566a0bd91"
      },
      "execution_count": 11,
      "outputs": [
        {
          "output_type": "execute_result",
          "data": {
            "text/plain": [
              "[1, 2, 5, 3, 8, 7]"
            ]
          },
          "metadata": {},
          "execution_count": 11
        }
      ]
    },
    {
      "cell_type": "code",
      "source": [
        "heapq.nsmallest(n,iterable=)"
      ],
      "metadata": {
        "id": "EGwAswtOuPf6"
      },
      "execution_count": null,
      "outputs": []
    }
  ]
}