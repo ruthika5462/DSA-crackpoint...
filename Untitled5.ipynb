{
  "nbformat": 4,
  "nbformat_minor": 0,
  "metadata": {
    "colab": {
      "provenance": [],
      "collapsed_sections": [],
      "authorship_tag": "ABX9TyNSpxOmD+r3+IBMXy68CY3c",
      "include_colab_link": true
    },
    "kernelspec": {
      "name": "python3",
      "display_name": "Python 3"
    },
    "language_info": {
      "name": "python"
    }
  },
  "cells": [
    {
      "cell_type": "markdown",
      "metadata": {
        "id": "view-in-github",
        "colab_type": "text"
      },
      "source": [
        "<a href=\"https://colab.research.google.com/github/ruthika5462/DSA-crackpoint.../blob/main/Untitled5.ipynb\" target=\"_parent\"><img src=\"https://colab.research.google.com/assets/colab-badge.svg\" alt=\"Open In Colab\"/></a>"
      ]
    },
    {
      "cell_type": "markdown",
      "source": [
        "greedy algorithm\n",
        "pros-simple ,easy to implement,run fast\n",
        "\n",
        "\n",
        "1.   cons-very often they dont provide a gloabally optimum solution\n",
        "2  in tree find the maximum \n",
        "\n",
        "\n",
        "> making a best choice at amoment\n",
        "optimal solution to the problem contains an optimal solution to subproblems\n",
        "\n",
        "> application\n",
        "activity selection problem\n",
        "\n",
        "> huffman coding\n",
        "\n",
        "\n",
        "1.   job sequening problem\n",
        "\n",
        "2.  fractional knapsack problem\n",
        "3. prims minimum spanning tree\n",
        "\n",
        "\n",
        "\n",
        "\n",
        "\n",
        "\n",
        "\n",
        "\n",
        "\n",
        "\n"
      ],
      "metadata": {
        "id": "KMIloSz4JMQ_"
      }
    },
    {
      "cell_type": "code",
      "source": [],
      "metadata": {
        "id": "TdCCYNfVJjal"
      },
      "execution_count": null,
      "outputs": []
    },
    {
      "cell_type": "markdown",
      "source": [],
      "metadata": {
        "id": "dihErCNPTuRi"
      }
    },
    {
      "cell_type": "markdown",
      "source": [
        "huffman coding\n",
        "it is a losseless data compression\n",
        "assign variable length codes to input character\n",
        "length of which depends on frequency characters\n",
        "{0,11} ->prefix {0,1,11}->non prefix\n",
        "create a leaf node for each unique character and build a min heap of all leaf nodes\n"
      ],
      "metadata": {
        "id": "-bwSp9iNTyB7"
      }
    },
    {
      "cell_type": "markdown",
      "source": [
        "HEAP DATASTRUCTURE\n",
        "it is a type of tree\n",
        "\n",
        "\n",
        "> two types of heap min and max heap\n",
        "root node should be minimum\n",
        "the child should be maximum\n",
        "\n",
        "\n",
        "1.   max heap is opposite to min heap\n",
        "2.   root node should be max and child node should be min\n",
        "\n",
        "\n",
        "1.   array to max heap\n",
        "[50,4,82,33,16,65,99]\n",
        "\n",
        "\n",
        "*   recursively compare parent and swap if neccessary\n",
        "\n",
        "\n",
        "\n",
        "\n",
        "\n",
        "\n",
        "\n",
        "\n"
      ],
      "metadata": {
        "id": "iV-5rurlahAf"
      }
    },
    {
      "cell_type": "markdown",
      "source": [
        "**linked list**\n"
      ],
      "metadata": {
        "id": "qSmgOWpb--cv"
      }
    },
    {
      "cell_type": "code",
      "source": [
        "class node:   ##creating node\n",
        "  def __init__(self,data): ##initialize the fields of the node\n",
        "    self.data=data \n",
        "    self.ref = None  ##instead of null empty value\n",
        "node1 = node(10)\n",
        "print(node1)\n",
        "\n",
        "         \n",
        "\n"
      ],
      "metadata": {
        "id": "5NkLYFal_Bq8",
        "colab": {
          "base_uri": "https://localhost:8080/"
        },
        "outputId": "c295a236-f6aa-4ec9-8a4a-86818d053e45"
      },
      "execution_count": null,
      "outputs": [
        {
          "output_type": "stream",
          "name": "stdout",
          "text": [
            "<__main__.node object at 0x7fae01fb0ed0>\n"
          ]
        }
      ]
    },
    {
      "cell_type": "code",
      "source": [
        "class node:\n",
        "  def __init__(self,data):\n",
        "    self.data=data\n",
        "    self.ref=None\n",
        "class linkedlist:\n",
        "  def __init__(self):\n",
        "    self.head=None ##empty linked list\n",
        "  def print_ll(self):\n",
        "    if self.head is None:\n",
        "      print(\"linked list is empty\")\n",
        "    else:\n",
        "      n=self.head\n",
        "      while n is not None:\n",
        "        print(n.data)  \n",
        "        n = n.ref\n",
        "ll1=linkedlist()\n",
        "ll1.print_ll()\n",
        "  \n"
      ],
      "metadata": {
        "colab": {
          "base_uri": "https://localhost:8080/"
        },
        "id": "OoPwKwYzabCr",
        "outputId": "ed67efd6-2018-4faa-eb6c-f4d47c1ff7bb"
      },
      "execution_count": null,
      "outputs": [
        {
          "output_type": "stream",
          "name": "stdout",
          "text": [
            "linked list is empty\n"
          ]
        }
      ]
    },
    {
      "cell_type": "code",
      "source": [],
      "metadata": {
        "id": "v-n7jWH5gXEZ"
      },
      "execution_count": null,
      "outputs": []
    },
    {
      "cell_type": "code",
      "source": [],
      "metadata": {
        "id": "L331r2ZaaaYS"
      },
      "execution_count": null,
      "outputs": []
    }
  ]
}