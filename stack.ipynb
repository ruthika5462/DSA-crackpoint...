{
  "nbformat": 4,
  "nbformat_minor": 0,
  "metadata": {
    "colab": {
      "provenance": [],
      "collapsed_sections": [],
      "include_colab_link": true
    },
    "kernelspec": {
      "name": "python3",
      "display_name": "Python 3"
    },
    "language_info": {
      "name": "python"
    }
  },
  "cells": [
    {
      "cell_type": "markdown",
      "metadata": {
        "id": "view-in-github",
        "colab_type": "text"
      },
      "source": [
        "<a href=\"https://colab.research.google.com/github/ruthika5462/DSA-crackpoint.../blob/main/stack.ipynb\" target=\"_parent\"><img src=\"https://colab.research.google.com/assets/colab-badge.svg\" alt=\"Open In Colab\"/></a>"
      ]
    },
    {
      "cell_type": "code",
      "execution_count": null,
      "metadata": {
        "id": "AWQ_YEOE5OBX",
        "colab": {
          "base_uri": "https://localhost:8080/"
        },
        "outputId": "c5ea6012-61b9-4d0f-de4e-d6ce81a018a1"
      },
      "outputs": [
        {
          "output_type": "stream",
          "name": "stdout",
          "text": [
            "union: {0, 1, 2, 3, 4, 5, 6}\n",
            "intersection {2, 4, 5}\n",
            "Diffrence {0, 6}\n",
            "symmetric diffrence {0, 1, 3, 6}\n"
          ]
        }
      ],
      "source": [
        "A={0,2,4,5,6}\n",
        "B={1,2,3,4,5}\n",
        "print(\"union:\", A|B)\n",
        "print(\"intersection\",A & B)\n",
        "print(\"Diffrence\",A-B)\n",
        "print(\"symmetric diffrence\",A^B)"
      ]
    },
    {
      "cell_type": "code",
      "source": [],
      "metadata": {
        "id": "m_lDnhstXEej"
      },
      "execution_count": null,
      "outputs": []
    },
    {
      "cell_type": "code",
      "source": [
        "s = {'g', 'e', 'k', 's'}\n",
        " \n",
        "# adding 's'\n",
        "s.add('f')\n",
        "print('Set after updating:', s)"
      ],
      "metadata": {
        "colab": {
          "base_uri": "https://localhost:8080/"
        },
        "id": "mNBlS6QwXEh1",
        "outputId": "e151f27f-333e-41e7-88c0-51ae4d0fd3ec"
      },
      "execution_count": null,
      "outputs": [
        {
          "output_type": "stream",
          "name": "stdout",
          "text": [
            "Set after updating: {'f', 's', 'g', 'k', 'e'}\n"
          ]
        }
      ]
    },
    {
      "cell_type": "code",
      "source": [],
      "metadata": {
        "id": "kIMNcmpFbch3"
      },
      "execution_count": null,
      "outputs": []
    },
    {
      "cell_type": "code",
      "source": [
        "ruthika={1,2,4,7,8,5}\n",
        "ruthika.discard(5)\n",
        "print(\"set after updating\",ruthika)"
      ],
      "metadata": {
        "colab": {
          "base_uri": "https://localhost:8080/"
        },
        "id": "eoLcZTJCauHi",
        "outputId": "a9ea17d8-b93b-41d7-db63-75ece13e8fa8"
      },
      "execution_count": null,
      "outputs": [
        {
          "output_type": "stream",
          "name": "stdout",
          "text": [
            "set after updating {1, 2, 4, 7, 8}\n"
          ]
        }
      ]
    },
    {
      "cell_type": "code",
      "source": [
        "ruthika.remove(7)\n",
        "print(\"set after updating\",ruthika)"
      ],
      "metadata": {
        "colab": {
          "base_uri": "https://localhost:8080/"
        },
        "id": "h_UoIbRwbYJK",
        "outputId": "2170fa9f-86e8-4617-9624-5281a760d2c0"
      },
      "execution_count": null,
      "outputs": [
        {
          "output_type": "stream",
          "name": "stdout",
          "text": [
            "set after updating {1, 2, 4, 8}\n"
          ]
        }
      ]
    },
    {
      "cell_type": "code",
      "source": [
        "print('\\n popped element',ruthika.pop())\n",
        "print('set after updating:',ruthika)"
      ],
      "metadata": {
        "colab": {
          "base_uri": "https://localhost:8080/"
        },
        "id": "oWDhWtX3a8T6",
        "outputId": "f58ef8ad-bbcc-4d4b-dc58-b9e5bf92f88f"
      },
      "execution_count": null,
      "outputs": [
        {
          "output_type": "stream",
          "name": "stdout",
          "text": [
            "\n",
            " popped element 1\n",
            "set after updating: {2, 4, 8}\n"
          ]
        }
      ]
    },
    {
      "cell_type": "code",
      "source": [],
      "metadata": {
        "id": "HMwPudKTdKJp"
      },
      "execution_count": null,
      "outputs": []
    },
    {
      "cell_type": "markdown",
      "source": [
        "here pop element which is based on the stack implementation like  **LIFO**\n",
        "\n",
        "---\n",
        "\n",
        "pop the first element"
      ],
      "metadata": {
        "id": "I07O-VA2cs3f"
      }
    },
    {
      "cell_type": "code",
      "source": [
        "ruthika.clear()\n",
        "print('\\n set after updating:',ruthika)"
      ],
      "metadata": {
        "colab": {
          "base_uri": "https://localhost:8080/"
        },
        "id": "WiCE--q3dHVq",
        "outputId": "62224d09-b7d9-43ab-9ac6-47f9b65181e2"
      },
      "execution_count": null,
      "outputs": [
        {
          "output_type": "stream",
          "name": "stdout",
          "text": [
            "\n",
            " set after updating: set()\n"
          ]
        }
      ]
    },
    {
      "cell_type": "code",
      "source": [],
      "metadata": {
        "id": "OvxeVOSVxL6r"
      },
      "execution_count": null,
      "outputs": []
    },
    {
      "cell_type": "code",
      "source": [
        "ruthika.copy()\n",
        "print('\\n set after updating',ruthika)"
      ],
      "metadata": {
        "colab": {
          "base_uri": "https://localhost:8080/"
        },
        "id": "9wi_7U0QdAU6",
        "outputId": "7c25485e-4273-45f7-83e4-b1486a829890"
      },
      "execution_count": null,
      "outputs": [
        {
          "output_type": "stream",
          "name": "stdout",
          "text": [
            "\n",
            " set after updating set()\n"
          ]
        }
      ]
    },
    {
      "cell_type": "code",
      "source": [
        "ruthika.frozenset()\n",
        "print('\\n set after upsdating',ruthika)"
      ],
      "metadata": {
        "colab": {
          "base_uri": "https://localhost:8080/",
          "height": 183
        },
        "id": "fPolWKujeA_L",
        "outputId": "4a755766-1421-4852-b546-1b97fe95226f"
      },
      "execution_count": null,
      "outputs": [
        {
          "output_type": "error",
          "ename": "AttributeError",
          "evalue": "ignored",
          "traceback": [
            "\u001b[0;31m---------------------------------------------------------------------------\u001b[0m",
            "\u001b[0;31mAttributeError\u001b[0m                            Traceback (most recent call last)",
            "\u001b[0;32m<ipython-input-16-1b6b393a028a>\u001b[0m in \u001b[0;36m<module>\u001b[0;34m\u001b[0m\n\u001b[0;32m----> 1\u001b[0;31m \u001b[0mruthika\u001b[0m\u001b[0;34m.\u001b[0m\u001b[0mfrozenset\u001b[0m\u001b[0;34m(\u001b[0m\u001b[0;34m)\u001b[0m\u001b[0;34m\u001b[0m\u001b[0;34m\u001b[0m\u001b[0m\n\u001b[0m\u001b[1;32m      2\u001b[0m \u001b[0mprint\u001b[0m\u001b[0;34m(\u001b[0m\u001b[0;34m'\\n set after upsdating'\u001b[0m\u001b[0;34m,\u001b[0m\u001b[0mruthika\u001b[0m\u001b[0;34m)\u001b[0m\u001b[0;34m\u001b[0m\u001b[0;34m\u001b[0m\u001b[0m\n",
            "\u001b[0;31mAttributeError\u001b[0m: 'set' object has no attribute 'frozenset'"
          ]
        }
      ]
    },
    {
      "cell_type": "markdown",
      "source": [
        "here set object doesnt have a frozen **set**"
      ],
      "metadata": {
        "id": "lNBpKLpbeT8X"
      }
    },
    {
      "cell_type": "code",
      "source": [
        "\n",
        "A={10,20,30,40,50}\n",
        "B={100,30,60,49,50}\n",
        "print(A-B)\n",
        "print(B-A)"
      ],
      "metadata": {
        "colab": {
          "base_uri": "https://localhost:8080/"
        },
        "id": "Ej1f5ZUTecEJ",
        "outputId": "688ab985-a6b5-40a2-f532-f33ba26fc7fb"
      },
      "execution_count": null,
      "outputs": [
        {
          "output_type": "stream",
          "name": "stdout",
          "text": [
            "{40, 10, 20}\n",
            "{49, 100, 60}\n"
          ]
        }
      ]
    },
    {
      "cell_type": "markdown",
      "source": [
        "**python set diffrence updat**e"
      ],
      "metadata": {
        "id": "jYFSagZXhgSp"
      }
    },
    {
      "cell_type": "code",
      "source": [
        "A = {10, 20, 30, 40, 80}\n",
        "B = {100, 30, 80, 40, 60}\n",
        " \n",
        "# Modifies A and returns None\n",
        "A.difference_update(B)\n",
        " \n",
        "# Prints the modified set\n",
        "print (A)"
      ],
      "metadata": {
        "colab": {
          "base_uri": "https://localhost:8080/"
        },
        "id": "K4qdJVyihoWx",
        "outputId": "f9fb33ed-e54d-4496-d459-586aa385a573"
      },
      "execution_count": null,
      "outputs": [
        {
          "output_type": "stream",
          "name": "stdout",
          "text": [
            "{10, 20}\n"
          ]
        }
      ]
    },
    {
      "cell_type": "code",
      "source": [
        "a={1,2,3,4,5,6}\n",
        "b={6,7,8,2,3,4}\n",
        "a.diffrence_update(b)\n",
        "print(a)"
      ],
      "metadata": {
        "colab": {
          "base_uri": "https://localhost:8080/",
          "height": 218
        },
        "id": "i2-SDSzGmric",
        "outputId": "5e5dd642-f1ff-4b72-9809-31f8544ab963"
      },
      "execution_count": null,
      "outputs": [
        {
          "output_type": "error",
          "ename": "AttributeError",
          "evalue": "ignored",
          "traceback": [
            "\u001b[0;31m---------------------------------------------------------------------------\u001b[0m",
            "\u001b[0;31mAttributeError\u001b[0m                            Traceback (most recent call last)",
            "\u001b[0;32m<ipython-input-21-213f33823230>\u001b[0m in \u001b[0;36m<module>\u001b[0;34m\u001b[0m\n\u001b[1;32m      1\u001b[0m \u001b[0ma\u001b[0m\u001b[0;34m=\u001b[0m\u001b[0;34m{\u001b[0m\u001b[0;36m1\u001b[0m\u001b[0;34m,\u001b[0m\u001b[0;36m2\u001b[0m\u001b[0;34m,\u001b[0m\u001b[0;36m3\u001b[0m\u001b[0;34m,\u001b[0m\u001b[0;36m4\u001b[0m\u001b[0;34m,\u001b[0m\u001b[0;36m5\u001b[0m\u001b[0;34m,\u001b[0m\u001b[0;36m6\u001b[0m\u001b[0;34m}\u001b[0m\u001b[0;34m\u001b[0m\u001b[0;34m\u001b[0m\u001b[0m\n\u001b[1;32m      2\u001b[0m \u001b[0mb\u001b[0m\u001b[0;34m=\u001b[0m\u001b[0;34m{\u001b[0m\u001b[0;36m6\u001b[0m\u001b[0;34m,\u001b[0m\u001b[0;36m7\u001b[0m\u001b[0;34m,\u001b[0m\u001b[0;36m8\u001b[0m\u001b[0;34m,\u001b[0m\u001b[0;36m2\u001b[0m\u001b[0;34m,\u001b[0m\u001b[0;36m3\u001b[0m\u001b[0;34m,\u001b[0m\u001b[0;36m4\u001b[0m\u001b[0;34m}\u001b[0m\u001b[0;34m\u001b[0m\u001b[0;34m\u001b[0m\u001b[0m\n\u001b[0;32m----> 3\u001b[0;31m \u001b[0ma\u001b[0m\u001b[0;34m.\u001b[0m\u001b[0mdiffrence_update\u001b[0m\u001b[0;34m(\u001b[0m\u001b[0mb\u001b[0m\u001b[0;34m)\u001b[0m\u001b[0;34m\u001b[0m\u001b[0;34m\u001b[0m\u001b[0m\n\u001b[0m\u001b[1;32m      4\u001b[0m \u001b[0mprint\u001b[0m\u001b[0;34m(\u001b[0m\u001b[0ma\u001b[0m\u001b[0;34m)\u001b[0m\u001b[0;34m\u001b[0m\u001b[0;34m\u001b[0m\u001b[0m\n",
            "\u001b[0;31mAttributeError\u001b[0m: 'set' object has no attribute 'diffrence_update'"
          ]
        }
      ]
    },
    {
      "cell_type": "markdown",
      "source": [
        "**set and frozen set**\n",
        "    set doesnt allow duplicate elements\n",
        "    it is a unordered collection it is unique\n",
        "    To remove duplicate elements use set\n",
        "    EXAMPLE\n",
        "**bold text**"
      ],
      "metadata": {
        "id": "Ms_iJeY7r39w"
      }
    },
    {
      "cell_type": "code",
      "source": [
        "numbers=[1,2,3,4,3,4]\n",
        "unique_numbers=set(numbers)\n",
        "print(unique_numbers)"
      ],
      "metadata": {
        "colab": {
          "base_uri": "https://localhost:8080/"
        },
        "id": "qjwLEWgVs-fJ",
        "outputId": "35f05f6c-284b-4653-dd9f-c13f8b50d486"
      },
      "execution_count": null,
      "outputs": [
        {
          "output_type": "stream",
          "name": "stdout",
          "text": [
            "{1, 2, 3, 4}\n"
          ]
        }
      ]
    },
    {
      "cell_type": "markdown",
      "source": [
        "to add a element in a unique element"
      ],
      "metadata": {
        "id": "aLMtcP7Ttbd9"
      }
    },
    {
      "cell_type": "code",
      "source": [
        "unique_numbers.add(5)\n",
        "print(unique_numbers)"
      ],
      "metadata": {
        "colab": {
          "base_uri": "https://localhost:8080/"
        },
        "id": "DOTgcbIUthf-",
        "outputId": "0b842032-1798-484f-8866-77c16e9d119d"
      },
      "execution_count": null,
      "outputs": [
        {
          "output_type": "stream",
          "name": "stdout",
          "text": [
            "{1, 2, 3, 4, 5}\n"
          ]
        }
      ]
    },
    {
      "cell_type": "markdown",
      "source": [
        "**Frozen set**\n",
        "there is no chance to change the content of our set in that case we can use a frozen set"
      ],
      "metadata": {
        "id": "gHPodUjSt20A"
      }
    },
    {
      "cell_type": "code",
      "source": [
        "fs=frozenset(numbers)\n",
        "print(fs)"
      ],
      "metadata": {
        "colab": {
          "base_uri": "https://localhost:8080/"
        },
        "id": "OwxOYdN7uOM6",
        "outputId": "a5097d00-df8d-4ff5-bd51-2515b03a928b"
      },
      "execution_count": null,
      "outputs": [
        {
          "output_type": "stream",
          "name": "stdout",
          "text": [
            "frozenset({1, 2, 3, 4})\n"
          ]
        }
      ]
    },
    {
      "cell_type": "markdown",
      "source": [
        "in frozen set we cannot able to** add **the element that why the content is not **changeable**"
      ],
      "metadata": {
        "id": "WSHAtOkiud5R"
      }
    },
    {
      "cell_type": "code",
      "source": [
        "frozenset.add(5)\n",
        "print(frozenset)"
      ],
      "metadata": {
        "colab": {
          "base_uri": "https://localhost:8080/",
          "height": 183
        },
        "id": "SptY0p03u2ij",
        "outputId": "35c24542-ca8b-4a3d-bdbf-85af740556c5"
      },
      "execution_count": null,
      "outputs": [
        {
          "output_type": "error",
          "ename": "AttributeError",
          "evalue": "ignored",
          "traceback": [
            "\u001b[0;31m---------------------------------------------------------------------------\u001b[0m",
            "\u001b[0;31mAttributeError\u001b[0m                            Traceback (most recent call last)",
            "\u001b[0;32m<ipython-input-25-36b6127b78d3>\u001b[0m in \u001b[0;36m<module>\u001b[0;34m\u001b[0m\n\u001b[0;32m----> 1\u001b[0;31m \u001b[0mfrozenset\u001b[0m\u001b[0;34m.\u001b[0m\u001b[0madd\u001b[0m\u001b[0;34m(\u001b[0m\u001b[0;36m5\u001b[0m\u001b[0;34m)\u001b[0m\u001b[0;34m\u001b[0m\u001b[0;34m\u001b[0m\u001b[0m\n\u001b[0m\u001b[1;32m      2\u001b[0m \u001b[0mprint\u001b[0m\u001b[0;34m(\u001b[0m\u001b[0mfrozenset\u001b[0m\u001b[0;34m)\u001b[0m\u001b[0;34m\u001b[0m\u001b[0;34m\u001b[0m\u001b[0m\n",
            "\u001b[0;31mAttributeError\u001b[0m: type object 'frozenset' has no attribute 'add'"
          ]
        }
      ]
    },
    {
      "cell_type": "code",
      "source": [
        "X={'a','b','c'}#should be configured while declaring  as such it should not be given declare in string format...\n",
        "\"a\" in X \n",
        "\"g\" in X\n",
        "for i in X:\n",
        "  print(i)"
      ],
      "metadata": {
        "colab": {
          "base_uri": "https://localhost:8080/"
        },
        "id": "_qZul28ZvaEE",
        "outputId": "b0a1a04c-b380-4401-97ec-8a642f2f3530"
      },
      "execution_count": null,
      "outputs": [
        {
          "output_type": "stream",
          "name": "stdout",
          "text": [
            "a\n",
            "b\n",
            "c\n"
          ]
        }
      ]
    },
    {
      "cell_type": "markdown",
      "source": [
        "Binary search time complexity (log n)  \n",
        "all the values has to be sorted \n",
        "specify lower bound and upper bound\n",
        "find middle value\n",
        "**mid=lower+upper/2**\n",
        "check whether the mid value what we have got is matched with the given searching index value\n",
        "if  it is not matched change the lower bound or upper  bound\n",
        "for this we have to check the value which we are searching for is smaller or bigger than the mid value\n",
        "if the value is smaller change the upper bound\n",
        "if the value is bigger than mid value then change the lower and mid becomes new lower bound\n",
        " \n",
        "\n",
        "\n"
      ],
      "metadata": {
        "id": "svBQEyI-CslC"
      }
    },
    {
      "cell_type": "code",
      "source": [
        "##for every iteration it is divided by n/2 tim\n"
      ],
      "metadata": {
        "id": "gd2mNwaoCu88"
      },
      "execution_count": null,
      "outputs": []
    },
    {
      "cell_type": "code",
      "source": [
        "arr =[10,20,60,40,40]\n",
        "temp=0;\n",
        "print(\"elements of orginal array\")\n",
        "for i in range(0,len(arr)):\n",
        "  print(arr[i])\n",
        "for i in range(0,len(arr)):\n",
        "  for j in range(0,len(arr)):\n",
        "    if (arr[i]>arr[j]):\n",
        "     temp=arr[i];\n",
        "    arr[i]=arr[j];\n",
        "    arr[j]=arr[i];\n",
        "    arr[j]=temp;\n",
        "print();\n",
        "print(\"elements of orginal array in ascending order:\")\n",
        "for i in range(0,len(arr)):\n",
        "  print(arr[i],end=\"\")  \n"
      ],
      "metadata": {
        "id": "EL8FJrGMA8iJ",
        "colab": {
          "base_uri": "https://localhost:8080/"
        },
        "outputId": "a284965c-cad1-40ee-f2ba-a7c286a83dc3"
      },
      "execution_count": null,
      "outputs": [
        {
          "output_type": "stream",
          "name": "stdout",
          "text": [
            "elements of orginal array\n",
            "10\n",
            "20\n",
            "60\n",
            "40\n",
            "40\n",
            "\n",
            "elements of orginal array in ascending order:\n",
            "6060606060"
          ]
        }
      ]
    },
    {
      "cell_type": "code",
      "source": [
        "import array\n",
        "arr =array.array('i',[1,2,3,3,4,5])\n",
        "print(\"the new created array\")\n",
        "for i in range(0,6):\n",
        "  print(arr[i])\n",
        "print(\"/r\")\n",
        "print(\"the index of 1st occurence of 4 is :\")\n",
        "print(arr.index(2))"
      ],
      "metadata": {
        "colab": {
          "base_uri": "https://localhost:8080/"
        },
        "id": "uMUVIOEK3b7Z",
        "outputId": "a4edcb50-dfa7-4d71-b1f6-6482a1182081"
      },
      "execution_count": null,
      "outputs": [
        {
          "output_type": "stream",
          "name": "stdout",
          "text": [
            "the new created array\n",
            "1\n",
            "2\n",
            "3\n",
            "3\n",
            "4\n",
            "5\n",
            "/r\n",
            "the index of 1st occurence of 4 is :\n",
            "1\n"
          ]
        }
      ]
    },
    {
      "cell_type": "code",
      "source": [
        "def listruthika(n):\n",
        "  return list(range(1,n+1))\n",
        "print(listruthika(16))"
      ],
      "metadata": {
        "colab": {
          "base_uri": "https://localhost:8080/"
        },
        "id": "1hcUDhiM8hEK",
        "outputId": "d02fb484-263f-444b-ffff-2dd01c5288c3"
      },
      "execution_count": null,
      "outputs": [
        {
          "output_type": "stream",
          "name": "stdout",
          "text": [
            "[1, 2, 3, 4, 5, 6, 7, 8, 9, 10, 11, 12, 13, 14, 15, 16]\n"
          ]
        }
      ]
    },
    {
      "cell_type": "code",
      "source": [
        "def listFrom1toN(n):\n",
        "    return list(range(1,n+1))\n",
        "\n",
        "print(listFrom1toN(13))"
      ],
      "metadata": {
        "colab": {
          "base_uri": "https://localhost:8080/"
        },
        "id": "jTRK9UcC83Wo",
        "outputId": "696ae7cd-e6c0-4d32-9344-5e84afd5c7d9"
      },
      "execution_count": null,
      "outputs": [
        {
          "output_type": "stream",
          "name": "stdout",
          "text": [
            "[1, 2, 3, 4, 5, 6, 7, 8, 9, 10, 11, 12, 13]\n"
          ]
        }
      ]
    },
    {
      "cell_type": "code",
      "source": [
        "##find missing number in array\n",
        "def findmissing(arr,n):\n",
        "  expected_sum=n*(n+1)/2\n",
        "  actual_sum=sum(arr)\n",
        "  return expected_sum-actual_sum\n",
        "if __name__==\"__main__\":\n",
        "   arr=[]\n",
        "   n=int(input(\"enter the length of the array\"))\n",
        "   for i in range(n-1):\n",
        "     m = int(input(\"enter the element\"))\n",
        "     arr.append(m)\n",
        "\n",
        "    missing_number=findmissing(n)\n",
        "     print(\"the missing number is{}\",format(missing_format))\n",
        "\n",
        "\n"
      ],
      "metadata": {
        "colab": {
          "base_uri": "https://localhost:8080/",
          "height": 130
        },
        "id": "ip69TFkwBuiS",
        "outputId": "4896292b-410d-4ffd-d0b0-463ed199d234"
      },
      "execution_count": null,
      "outputs": [
        {
          "output_type": "error",
          "ename": "IndentationError",
          "evalue": "ignored",
          "traceback": [
            "\u001b[0;36m  File \u001b[0;32m\"<tokenize>\"\u001b[0;36m, line \u001b[0;32m13\u001b[0m\n\u001b[0;31m    missing_number=findmissing(n)\u001b[0m\n\u001b[0m    ^\u001b[0m\n\u001b[0;31mIndentationError\u001b[0m\u001b[0;31m:\u001b[0m unindent does not match any outer indentation level\n"
          ]
        }
      ]
    },
    {
      "cell_type": "code",
      "source": [
        "num=[1,2,3,4,5,6,7,9]\n",
        "num=len(n)+1\n",
        "totsum=num*(n+1)//2\n",
        "print(\"totsum is\",totsum)\n",
        "sum=0\n",
        "for i in num:\n",
        "  su=sum+i\n",
        "  print('missing number is:',totalsum-sum)\n"
      ],
      "metadata": {
        "colab": {
          "base_uri": "https://localhost:8080/",
          "height": 235
        },
        "id": "w15aXlJLKw2q",
        "outputId": "39542265-933c-4129-fd34-c0c755fcc698"
      },
      "execution_count": null,
      "outputs": [
        {
          "output_type": "error",
          "ename": "TypeError",
          "evalue": "ignored",
          "traceback": [
            "\u001b[0;31m---------------------------------------------------------------------------\u001b[0m",
            "\u001b[0;31mTypeError\u001b[0m                                 Traceback (most recent call last)",
            "\u001b[0;32m<ipython-input-26-202eb2311155>\u001b[0m in \u001b[0;36m<module>\u001b[0;34m\u001b[0m\n\u001b[1;32m      1\u001b[0m \u001b[0mnum\u001b[0m\u001b[0;34m=\u001b[0m\u001b[0;34m[\u001b[0m\u001b[0;36m1\u001b[0m\u001b[0;34m,\u001b[0m\u001b[0;36m2\u001b[0m\u001b[0;34m,\u001b[0m\u001b[0;36m3\u001b[0m\u001b[0;34m,\u001b[0m\u001b[0;36m4\u001b[0m\u001b[0;34m,\u001b[0m\u001b[0;36m5\u001b[0m\u001b[0;34m,\u001b[0m\u001b[0;36m6\u001b[0m\u001b[0;34m,\u001b[0m\u001b[0;36m7\u001b[0m\u001b[0;34m,\u001b[0m\u001b[0;36m9\u001b[0m\u001b[0;34m]\u001b[0m\u001b[0;34m\u001b[0m\u001b[0;34m\u001b[0m\u001b[0m\n\u001b[0;32m----> 2\u001b[0;31m \u001b[0mnum\u001b[0m\u001b[0;34m=\u001b[0m\u001b[0mlen\u001b[0m\u001b[0;34m(\u001b[0m\u001b[0mn\u001b[0m\u001b[0;34m)\u001b[0m\u001b[0;34m+\u001b[0m\u001b[0;36m1\u001b[0m\u001b[0;34m\u001b[0m\u001b[0;34m\u001b[0m\u001b[0m\n\u001b[0m\u001b[1;32m      3\u001b[0m \u001b[0mtotsum\u001b[0m\u001b[0;34m=\u001b[0m\u001b[0mnum\u001b[0m\u001b[0;34m*\u001b[0m\u001b[0;34m(\u001b[0m\u001b[0mn\u001b[0m\u001b[0;34m+\u001b[0m\u001b[0;36m1\u001b[0m\u001b[0;34m)\u001b[0m\u001b[0;34m//\u001b[0m\u001b[0;36m2\u001b[0m\u001b[0;34m\u001b[0m\u001b[0;34m\u001b[0m\u001b[0m\n\u001b[1;32m      4\u001b[0m \u001b[0mprint\u001b[0m\u001b[0;34m(\u001b[0m\u001b[0;34m\"totsum is\"\u001b[0m\u001b[0;34m,\u001b[0m\u001b[0mtotsum\u001b[0m\u001b[0;34m)\u001b[0m\u001b[0;34m\u001b[0m\u001b[0;34m\u001b[0m\u001b[0m\n\u001b[1;32m      5\u001b[0m \u001b[0msum\u001b[0m\u001b[0;34m=\u001b[0m\u001b[0;36m0\u001b[0m\u001b[0;34m\u001b[0m\u001b[0;34m\u001b[0m\u001b[0m\n",
            "\u001b[0;31mTypeError\u001b[0m: object of type 'int' has no len()"
          ]
        }
      ]
    },
    {
      "cell_type": "code",
      "source": [
        "class solution:\n",
        "    def missingnumber(self,nums:list):\n",
        "        res=len(nums)\n",
        "    for i in range(len(nums)-1):\n",
        "        res +=(i-nums[i])\n",
        "    print(res)\n"
      ],
      "metadata": {
        "colab": {
          "base_uri": "https://localhost:8080/",
          "height": 356
        },
        "id": "ARNwtHosNmTX",
        "outputId": "15f0d086-852d-4de1-e115-828ec64a9c34"
      },
      "execution_count": null,
      "outputs": [
        {
          "output_type": "error",
          "ename": "NameError",
          "evalue": "ignored",
          "traceback": [
            "\u001b[0;31m---------------------------------------------------------------------------\u001b[0m",
            "\u001b[0;31mNameError\u001b[0m                                 Traceback (most recent call last)",
            "\u001b[0;32m<ipython-input-33-1d8606544388>\u001b[0m in \u001b[0;36m<module>\u001b[0;34m\u001b[0m\n\u001b[0;32m----> 1\u001b[0;31m \u001b[0;32mclass\u001b[0m \u001b[0msolution\u001b[0m\u001b[0;34m:\u001b[0m\u001b[0;34m\u001b[0m\u001b[0;34m\u001b[0m\u001b[0m\n\u001b[0m\u001b[1;32m      2\u001b[0m     \u001b[0;32mdef\u001b[0m \u001b[0mmissingnumber\u001b[0m\u001b[0;34m(\u001b[0m\u001b[0mself\u001b[0m\u001b[0;34m,\u001b[0m\u001b[0mnums\u001b[0m\u001b[0;34m:\u001b[0m\u001b[0mlist\u001b[0m\u001b[0;34m)\u001b[0m\u001b[0;34m:\u001b[0m\u001b[0;34m\u001b[0m\u001b[0;34m\u001b[0m\u001b[0m\n\u001b[1;32m      3\u001b[0m         \u001b[0mres\u001b[0m\u001b[0;34m=\u001b[0m\u001b[0mlen\u001b[0m\u001b[0;34m(\u001b[0m\u001b[0mnums\u001b[0m\u001b[0;34m)\u001b[0m\u001b[0;34m\u001b[0m\u001b[0;34m\u001b[0m\u001b[0m\n\u001b[1;32m      4\u001b[0m     \u001b[0;32mfor\u001b[0m \u001b[0mi\u001b[0m \u001b[0;32min\u001b[0m \u001b[0mrange\u001b[0m\u001b[0;34m(\u001b[0m\u001b[0mlen\u001b[0m\u001b[0;34m(\u001b[0m\u001b[0mnums\u001b[0m\u001b[0;34m)\u001b[0m\u001b[0;34m-\u001b[0m\u001b[0;36m1\u001b[0m\u001b[0;34m)\u001b[0m\u001b[0;34m:\u001b[0m\u001b[0;34m\u001b[0m\u001b[0;34m\u001b[0m\u001b[0m\n\u001b[1;32m      5\u001b[0m         \u001b[0mres\u001b[0m \u001b[0;34m+=\u001b[0m\u001b[0;34m(\u001b[0m\u001b[0mi\u001b[0m\u001b[0;34m-\u001b[0m\u001b[0mnums\u001b[0m\u001b[0;34m[\u001b[0m\u001b[0mi\u001b[0m\u001b[0;34m]\u001b[0m\u001b[0;34m)\u001b[0m\u001b[0;34m\u001b[0m\u001b[0;34m\u001b[0m\u001b[0m\n",
            "\u001b[0;32m<ipython-input-33-1d8606544388>\u001b[0m in \u001b[0;36msolution\u001b[0;34m()\u001b[0m\n\u001b[1;32m      2\u001b[0m     \u001b[0;32mdef\u001b[0m \u001b[0mmissingnumber\u001b[0m\u001b[0;34m(\u001b[0m\u001b[0mself\u001b[0m\u001b[0;34m,\u001b[0m\u001b[0mnums\u001b[0m\u001b[0;34m:\u001b[0m\u001b[0mlist\u001b[0m\u001b[0;34m)\u001b[0m\u001b[0;34m:\u001b[0m\u001b[0;34m\u001b[0m\u001b[0;34m\u001b[0m\u001b[0m\n\u001b[1;32m      3\u001b[0m         \u001b[0mres\u001b[0m\u001b[0;34m=\u001b[0m\u001b[0mlen\u001b[0m\u001b[0;34m(\u001b[0m\u001b[0mnums\u001b[0m\u001b[0;34m)\u001b[0m\u001b[0;34m\u001b[0m\u001b[0;34m\u001b[0m\u001b[0m\n\u001b[0;32m----> 4\u001b[0;31m     \u001b[0;32mfor\u001b[0m \u001b[0mi\u001b[0m \u001b[0;32min\u001b[0m \u001b[0mrange\u001b[0m\u001b[0;34m(\u001b[0m\u001b[0mlen\u001b[0m\u001b[0;34m(\u001b[0m\u001b[0mnums\u001b[0m\u001b[0;34m)\u001b[0m\u001b[0;34m-\u001b[0m\u001b[0;36m1\u001b[0m\u001b[0;34m)\u001b[0m\u001b[0;34m:\u001b[0m\u001b[0;34m\u001b[0m\u001b[0;34m\u001b[0m\u001b[0m\n\u001b[0m\u001b[1;32m      5\u001b[0m         \u001b[0mres\u001b[0m \u001b[0;34m+=\u001b[0m\u001b[0;34m(\u001b[0m\u001b[0mi\u001b[0m\u001b[0;34m-\u001b[0m\u001b[0mnums\u001b[0m\u001b[0;34m[\u001b[0m\u001b[0mi\u001b[0m\u001b[0;34m]\u001b[0m\u001b[0;34m)\u001b[0m\u001b[0;34m\u001b[0m\u001b[0;34m\u001b[0m\u001b[0m\n\u001b[1;32m      6\u001b[0m     \u001b[0mprint\u001b[0m\u001b[0;34m(\u001b[0m\u001b[0mres\u001b[0m\u001b[0;34m)\u001b[0m\u001b[0;34m\u001b[0m\u001b[0;34m\u001b[0m\u001b[0m\n",
            "\u001b[0;31mNameError\u001b[0m: name 'nums' is not defined"
          ]
        }
      ]
    },
    {
      "cell_type": "code",
      "source": [
        "#stack implementation using list 0(n)\n",
        "stack=[]\n",
        "stack.append(\"welcome\")\n",
        "stack.append(\"to\")\n",
        "stack.append(\"great learning\")\n",
        "print(stack)\n",
        "print(stack.pop())\n"
      ],
      "metadata": {
        "colab": {
          "base_uri": "https://localhost:8080/"
        },
        "id": "_HcgyRiwWmyv",
        "outputId": "251ea43a-6613-46c4-faba-e12a82ecb649"
      },
      "execution_count": null,
      "outputs": [
        {
          "output_type": "stream",
          "name": "stdout",
          "text": [
            "['welcome', 'to', 'great learning']\n",
            "great learning\n"
          ]
        }
      ]
    },
    {
      "cell_type": "code",
      "source": [
        "###from collections dequeue module list and dequeue are same\n",
        "from collections import deque\n",
        "stack=deque()\n",
        "stack.append(\"x\")\n",
        "print(\"stack\")\n",
        "stack.append(\"y\")\n",
        "stack.append(\"z\")\n",
        "print(stack)\n",
        "print(stack.pop())\n",
        "print(stack)"
      ],
      "metadata": {
        "colab": {
          "base_uri": "https://localhost:8080/"
        },
        "id": "XT0BmzPpWmvV",
        "outputId": "8e010680-79e0-46ca-98aa-a156ba848bb2"
      },
      "execution_count": null,
      "outputs": [
        {
          "output_type": "stream",
          "name": "stdout",
          "text": [
            "stack\n",
            "deque(['x', 'y', 'z'])\n",
            "z\n",
            "deque(['x', 'y'])\n"
          ]
        }
      ]
    },
    {
      "cell_type": "code",
      "source": [
        "from collections import deque\n",
        "stack=deque()\n",
        "stack.append(5)\n",
        "stack.append(6)\n",
        "stack.append(7)\n",
        "print(stack)\n",
        "print(stack.pop())\n",
        "print(stack.pop())\n",
        "print(stack)"
      ],
      "metadata": {
        "colab": {
          "base_uri": "https://localhost:8080/"
        },
        "id": "yXAjZXhLYs6Z",
        "outputId": "a9fd5725-fef0-4ce5-fea6-a5acb35dc01f"
      },
      "execution_count": null,
      "outputs": [
        {
          "output_type": "stream",
          "name": "stdout",
          "text": [
            "deque([5, 6, 7])\n",
            "7\n",
            "6\n",
            "deque([5])\n"
          ]
        }
      ]
    },
    {
      "cell_type": "code",
      "source": [
        "##implementation using queue\n",
        "from queue import LifoQueue\n",
        "stack=LifoQueue(maxsize=3)\n",
        "stack.put(2)\n",
        "stack.put(4)\n",
        "stack.put(3)\n",
        "print(stack.qsize())\n",
        "print(stack.full())\n",
        "stack.get()\n",
        "print(stack.full())\n"
      ],
      "metadata": {
        "colab": {
          "base_uri": "https://localhost:8080/"
        },
        "id": "pIJhOKZZZq-4",
        "outputId": "b035f0e2-da6a-4839-bad3-b7314fafd16f"
      },
      "execution_count": null,
      "outputs": [
        {
          "output_type": "stream",
          "name": "stdout",
          "text": [
            "3\n",
            "True\n",
            "False\n"
          ]
        }
      ]
    },
    {
      "cell_type": "code",
      "source": [
        "from queue import LifoQueue\n",
        "stack=LifoQueue(maxsize=4)\n",
        "stack.put(4)\n",
        "stack.put(5)\n",
        "stack.put(89)\n",
        "print(stack)\n",
        "print(stack.qsize())\n",
        "stack.get()\n",
        "print(stack)"
      ],
      "metadata": {
        "colab": {
          "base_uri": "https://localhost:8080/"
        },
        "id": "yonpfAaHcN65",
        "outputId": "6463f5af-33a0-460f-a345-dec8063bf08d"
      },
      "execution_count": null,
      "outputs": [
        {
          "output_type": "stream",
          "name": "stdout",
          "text": [
            "<queue.LifoQueue object at 0x7f56b22c1dd0>\n",
            "3\n",
            "<queue.LifoQueue object at 0x7f56b22c1dd0>\n"
          ]
        }
      ]
    },
    {
      "cell_type": "code",
      "source": [
        "stack =[]\n",
        "len(stack)==0\n",
        "stack.append(10)\n",
        "stack.pop()\n",
        "not stack\n",
        "print(stack)"
      ],
      "metadata": {
        "colab": {
          "base_uri": "https://localhost:8080/"
        },
        "id": "1HiKp4htdU7p",
        "outputId": "f18d00c9-c2f8-41c0-e2c9-23d790207446"
      },
      "execution_count": null,
      "outputs": [
        {
          "output_type": "stream",
          "name": "stdout",
          "text": [
            "[]\n"
          ]
        }
      ]
    },
    {
      "cell_type": "code",
      "source": [
        "stack=[]\n",
        "len(stack)==0\n",
        "not stack\n",
        "\n"
      ],
      "metadata": {
        "colab": {
          "base_uri": "https://localhost:8080/"
        },
        "id": "BDxBT20tfXMC",
        "outputId": "a7787a54-dce1-4291-dd1f-605f76890a4f"
      },
      "execution_count": null,
      "outputs": [
        {
          "output_type": "execute_result",
          "data": {
            "text/plain": [
              "True"
            ]
          },
          "metadata": {},
          "execution_count": 59
        }
      ]
    },
    {
      "cell_type": "code",
      "source": [
        "stack.append(1)\n",
        "stack.append(2)\n",
        "stack[-1]"
      ],
      "metadata": {
        "colab": {
          "base_uri": "https://localhost:8080/"
        },
        "id": "AukmRlPwf-Gs",
        "outputId": "8f350f69-012d-4ced-c8aa-4bdbab3f88d9"
      },
      "execution_count": null,
      "outputs": [
        {
          "output_type": "execute_result",
          "data": {
            "text/plain": [
              "2"
            ]
          },
          "metadata": {},
          "execution_count": 61
        }
      ]
    },
    {
      "cell_type": "code",
      "source": [
        "stack=[]\n",
        "def push():\n",
        "  if len(stack)==0:\n",
        "    print(\"stack is full\")\n",
        "  else:\n",
        "    element=input(\"enter the element\")\n",
        "    stack.append(element)\n",
        "    print(stack)\n",
        "def pop_element():\n",
        "  if not stack:\n",
        "    print(\"stack is empty\")\n",
        "  else:\n",
        "    e=stack.pop()\n",
        "    print(\"removed element\")\n",
        "    print(stack)\n",
        "n=int(input(\"enter the limit\"))\n",
        "while True:\n",
        "  print(\"select the operation 1.push 2.pop 3.quit\")\n",
        "  choice = int(input())\n",
        "  break\n",
        "  "
      ],
      "metadata": {
        "id": "mg6dNz-lf9Jb",
        "colab": {
          "base_uri": "https://localhost:8080/",
          "height": 432
        },
        "outputId": "c9281030-4684-459f-e984-16244eac0f4f"
      },
      "execution_count": null,
      "outputs": [
        {
          "output_type": "stream",
          "name": "stdout",
          "text": [
            "enter the limit8\n",
            "select the operation 1.push 2.pop 3.quit\n"
          ]
        },
        {
          "output_type": "error",
          "ename": "KeyboardInterrupt",
          "evalue": "ignored",
          "traceback": [
            "\u001b[0;31m---------------------------------------------------------------------------\u001b[0m",
            "\u001b[0;31mKeyboardInterrupt\u001b[0m                         Traceback (most recent call last)",
            "\u001b[0;32m<ipython-input-10-7e4ed0319cdb>\u001b[0m in \u001b[0;36m<module>\u001b[0;34m\u001b[0m\n\u001b[1;32m     17\u001b[0m \u001b[0;32mwhile\u001b[0m \u001b[0;32mTrue\u001b[0m\u001b[0;34m:\u001b[0m\u001b[0;34m\u001b[0m\u001b[0;34m\u001b[0m\u001b[0m\n\u001b[1;32m     18\u001b[0m   \u001b[0mprint\u001b[0m\u001b[0;34m(\u001b[0m\u001b[0;34m\"select the operation 1.push 2.pop 3.quit\"\u001b[0m\u001b[0;34m)\u001b[0m\u001b[0;34m\u001b[0m\u001b[0;34m\u001b[0m\u001b[0m\n\u001b[0;32m---> 19\u001b[0;31m   \u001b[0mchoice\u001b[0m \u001b[0;34m=\u001b[0m \u001b[0mint\u001b[0m\u001b[0;34m(\u001b[0m\u001b[0minput\u001b[0m\u001b[0;34m(\u001b[0m\u001b[0;34m)\u001b[0m\u001b[0;34m)\u001b[0m\u001b[0;34m\u001b[0m\u001b[0;34m\u001b[0m\u001b[0m\n\u001b[0m\u001b[1;32m     20\u001b[0m   \u001b[0;32mbreak\u001b[0m\u001b[0;34m\u001b[0m\u001b[0;34m\u001b[0m\u001b[0m\n\u001b[1;32m     21\u001b[0m \u001b[0;34m\u001b[0m\u001b[0m\n",
            "\u001b[0;32m/usr/local/lib/python3.7/dist-packages/ipykernel/kernelbase.py\u001b[0m in \u001b[0;36mraw_input\u001b[0;34m(self, prompt)\u001b[0m\n\u001b[1;32m    861\u001b[0m             \u001b[0mself\u001b[0m\u001b[0;34m.\u001b[0m\u001b[0m_parent_ident\u001b[0m\u001b[0;34m,\u001b[0m\u001b[0;34m\u001b[0m\u001b[0;34m\u001b[0m\u001b[0m\n\u001b[1;32m    862\u001b[0m             \u001b[0mself\u001b[0m\u001b[0;34m.\u001b[0m\u001b[0m_parent_header\u001b[0m\u001b[0;34m,\u001b[0m\u001b[0;34m\u001b[0m\u001b[0;34m\u001b[0m\u001b[0m\n\u001b[0;32m--> 863\u001b[0;31m             \u001b[0mpassword\u001b[0m\u001b[0;34m=\u001b[0m\u001b[0;32mFalse\u001b[0m\u001b[0;34m,\u001b[0m\u001b[0;34m\u001b[0m\u001b[0;34m\u001b[0m\u001b[0m\n\u001b[0m\u001b[1;32m    864\u001b[0m         )\n\u001b[1;32m    865\u001b[0m \u001b[0;34m\u001b[0m\u001b[0m\n",
            "\u001b[0;32m/usr/local/lib/python3.7/dist-packages/ipykernel/kernelbase.py\u001b[0m in \u001b[0;36m_input_request\u001b[0;34m(self, prompt, ident, parent, password)\u001b[0m\n\u001b[1;32m    902\u001b[0m             \u001b[0;32mexcept\u001b[0m \u001b[0mKeyboardInterrupt\u001b[0m\u001b[0;34m:\u001b[0m\u001b[0;34m\u001b[0m\u001b[0;34m\u001b[0m\u001b[0m\n\u001b[1;32m    903\u001b[0m                 \u001b[0;31m# re-raise KeyboardInterrupt, to truncate traceback\u001b[0m\u001b[0;34m\u001b[0m\u001b[0;34m\u001b[0m\u001b[0;34m\u001b[0m\u001b[0m\n\u001b[0;32m--> 904\u001b[0;31m                 \u001b[0;32mraise\u001b[0m \u001b[0mKeyboardInterrupt\u001b[0m\u001b[0;34m(\u001b[0m\u001b[0;34m\"Interrupted by user\"\u001b[0m\u001b[0;34m)\u001b[0m \u001b[0;32mfrom\u001b[0m \u001b[0;32mNone\u001b[0m\u001b[0;34m\u001b[0m\u001b[0;34m\u001b[0m\u001b[0m\n\u001b[0m\u001b[1;32m    905\u001b[0m             \u001b[0;32mexcept\u001b[0m \u001b[0mException\u001b[0m \u001b[0;32mas\u001b[0m \u001b[0me\u001b[0m\u001b[0;34m:\u001b[0m\u001b[0;34m\u001b[0m\u001b[0;34m\u001b[0m\u001b[0m\n\u001b[1;32m    906\u001b[0m                 \u001b[0mself\u001b[0m\u001b[0;34m.\u001b[0m\u001b[0mlog\u001b[0m\u001b[0;34m.\u001b[0m\u001b[0mwarning\u001b[0m\u001b[0;34m(\u001b[0m\u001b[0;34m\"Invalid Message:\"\u001b[0m\u001b[0;34m,\u001b[0m \u001b[0mexc_info\u001b[0m\u001b[0;34m=\u001b[0m\u001b[0;32mTrue\u001b[0m\u001b[0;34m)\u001b[0m\u001b[0;34m\u001b[0m\u001b[0;34m\u001b[0m\u001b[0m\n",
            "\u001b[0;31mKeyboardInterrupt\u001b[0m: Interrupted by user"
          ]
        }
      ]
    },
    {
      "cell_type": "markdown",
      "source": [
        "**LINEAR SEARCH**\n"
      ],
      "metadata": {
        "id": "Af4aTQTrAuM8"
      }
    },
    {
      "cell_type": "code",
      "source": [
        "list=[5,8,4,6,9,2]\n",
        "n=9\n",
        "if_search(list,n)\n",
        "pri"
      ],
      "metadata": {
        "id": "9-jbdZj7BDZK"
      },
      "execution_count": null,
      "outputs": []
    },
    {
      "cell_type": "code",
      "source": [
        "arr=[4,5]\n",
        "print(arr[1])\n",
        "sum(arr)\n",
        "print(sum(arr))"
      ],
      "metadata": {
        "id": "cBU27ZrJT1Tb",
        "colab": {
          "base_uri": "https://localhost:8080/"
        },
        "outputId": "e547c30a-1ac1-40dc-936b-c14a05efe880"
      },
      "execution_count": null,
      "outputs": [
        {
          "output_type": "stream",
          "name": "stdout",
          "text": [
            "5\n",
            "9\n"
          ]
        }
      ]
    },
    {
      "cell_type": "code",
      "source": [
        "array=[4,0,6,5,2,9,7]\n",
        "def getsubarraywithsum(arr,s):\n",
        "  result=[]\n",
        "  for x in range(len(arr)):\n",
        "    result.append(arr[x])\n",
        "    while(sum(result)>s):\n",
        "      result.pop(0)\n",
        "    if(sum(result)==s):\n",
        "      return result\n",
        "print(getsubarraywithsum(array,7))"
      ],
      "metadata": {
        "colab": {
          "base_uri": "https://localhost:8080/"
        },
        "id": "4BtVLOk0F4Oa",
        "outputId": "7da49d22-760e-4b6d-9820-a689952285c6"
      },
      "execution_count": null,
      "outputs": [
        {
          "output_type": "stream",
          "name": "stdout",
          "text": [
            "[5, 2]\n"
          ]
        }
      ]
    },
    {
      "cell_type": "markdown",
      "source": [
        "subarray sum equals k"
      ],
      "metadata": {
        "id": "V45ljfeYJkBu"
      }
    },
    {
      "cell_type": "code",
      "source": [
        "##nested if statement\n"
      ],
      "metadata": {
        "id": "zn4WDdhwJe37"
      },
      "execution_count": null,
      "outputs": []
    }
  ]
}