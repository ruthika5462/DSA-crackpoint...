{
  "nbformat": 4,
  "nbformat_minor": 0,
  "metadata": {
    "colab": {
      "provenance": [],
      "authorship_tag": "ABX9TyMedQPLa7new/IWvaNfkgbi",
      "include_colab_link": true
    },
    "kernelspec": {
      "name": "python3",
      "display_name": "Python 3"
    },
    "language_info": {
      "name": "python"
    }
  },
  "cells": [
    {
      "cell_type": "markdown",
      "metadata": {
        "id": "view-in-github",
        "colab_type": "text"
      },
      "source": [
        "<a href=\"https://colab.research.google.com/github/ruthika5462/DSA-crackpoint.../blob/main/Untitled4.ipynb\" target=\"_parent\"><img src=\"https://colab.research.google.com/assets/colab-badge.svg\" alt=\"Open In Colab\"/></a>"
      ]
    },
    {
      "cell_type": "code",
      "execution_count": null,
      "metadata": {
        "id": "Mfan9R-LYcQn",
        "colab": {
          "base_uri": "https://localhost:8080/"
        },
        "outputId": "fdfbc3af-d679-4dd0-d063-da97737f6e0c"
      },
      "outputs": [
        {
          "output_type": "stream",
          "name": "stdout",
          "text": [
            "before adding nodes\n",
            "[]\n",
            "[]\n",
            "D is not present in the graph\n",
            "after adding nodes\n",
            "['A', 'B', 'C']\n",
            "[[0, 7, 0], [7, 0, 0], [0, 0, 0]]\n",
            "0 7 0 \n",
            "7 0 0 \n",
            "0 0 0 \n"
          ]
        }
      ],
      "source": [
        "def add_node(v):\n",
        "  global  node_count\n",
        "  if v in nodes:\n",
        "    print(v,\"is already present in graph\")\n",
        "  else:\n",
        "    node_count=node_count + 1\n",
        "    nodes.append(v)\n",
        "    for n in  graph:\n",
        "      n.append(0)\n",
        "    temp =[]     ##new row named as temp\n",
        "    for i in range(node_count):\n",
        "      temp.append(0)\n",
        "    graph.append(temp) ##ading the row to temp\n",
        "\n",
        "def  add_edge(v1,v2,cost):\n",
        "    if v1 not in nodes:\n",
        "      print(v1,\"is not present in the graph\")\n",
        "    elif v2 not in nodes:\n",
        "      print(v2,\"is not present in the graph\")\n",
        "    else:\n",
        "      index1 = nodes.index(v1)\n",
        "      index2 = nodes.index(v2)\n",
        "      graph[index1] [index2]=cost\n",
        "      graph[index2] [index1]=cost\n",
        "\n",
        "\n",
        "def print_graph():\n",
        "  for i in range(node_count):\n",
        "    for j in range(node_count):\n",
        "      print(graph[i][j], end=\" \")\n",
        "    print()\n",
        "\n",
        "nodes=[]\n",
        "graph=[]\n",
        "node_count=0\n",
        "print(\"before adding nodes\")\n",
        "print(nodes)\n",
        "print(graph)\n",
        "add_node(\"A\")\n",
        "add_node(\"B\")\n",
        "add_node(\"C\")\n",
        "add_edge(\"A\",\"B\",7)\n",
        "add_edge(\"A\",\"D\",10)\n",
        "print(\"after adding nodes\")\n",
        "print(nodes)\n",
        "print(graph)\n",
        "print_graph()"
      ]
    },
    {
      "cell_type": "code",
      "source": [
        "def add_node(v):\n",
        "   if  v in graph:\n",
        "     print(v ,\"is already present in graph\" )\n",
        "   else:\n",
        "     graph[v] =[]\n",
        "\n",
        "def add_edge(v1,v2,cost):\n",
        "   if v1 not in graph:\n",
        "     print(v1,\"v1 is not present in graph\")\n",
        "   if v2 not in graph:\n",
        "     print(v2,\"v2 is not present in the graph\")\n",
        "   else:\n",
        "     list1 =[v2,cost]\n",
        "     list2=[v1,cost]\n",
        "     graph[v1].append(v2)\n",
        "     graph[v2].append(v1)\n",
        "graph={}\n",
        "add_node(\"A\")\n",
        "add_node(\"B\")\n",
        "add_node(\"c\")\n",
        "add_edge(\"A\",\"B\",6)\n",
        "add_edge(\"A\",\"C\",5)\n",
        "print(graph)\n",
        "\n"
      ],
      "metadata": {
        "colab": {
          "base_uri": "https://localhost:8080/"
        },
        "id": "moddMWM6PgjT",
        "outputId": "5bf48c4a-bd38-4a07-f0fd-e6d620685a41"
      },
      "execution_count": null,
      "outputs": [
        {
          "output_type": "stream",
          "name": "stdout",
          "text": [
            "C v2 is not present in the graph\n",
            "{'A': ['B'], 'B': ['A'], 'c': []}\n"
          ]
        }
      ]
    },
    {
      "cell_type": "code",
      "source": [],
      "metadata": {
        "id": "XsEVXf6Odca6"
      },
      "execution_count": null,
      "outputs": []
    }
  ]
}